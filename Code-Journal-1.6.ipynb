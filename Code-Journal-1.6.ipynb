{
 "cells": [
  {
   "cell_type": "code",
   "execution_count": 1,
   "id": "6c6fe4c9-0184-4c34-82bc-40f29da2a223",
   "metadata": {},
   "outputs": [],
   "source": [
    "import math"
   ]
  },
  {
   "cell_type": "code",
   "execution_count": 2,
   "id": "c15f7c89-29e2-4bc5-8e9d-58653a74a2d2",
   "metadata": {},
   "outputs": [],
   "source": [
    "def sine(value):\n",
    "    return float(math.sin(value))\n",
    "def cosine(value):\n",
    "    return float(math.cos(value))"
   ]
  },
  {
   "cell_type": "markdown",
   "id": "1c02c0c5-db95-4abd-b19a-13f68f0b0662",
   "metadata": {},
   "source": [
    "The above defines the functions of sine and cosine"
   ]
  },
  {
   "cell_type": "code",
   "execution_count": 3,
   "id": "9e758178-7a27-41ad-8ab2-16c88e0fb04f",
   "metadata": {},
   "outputs": [],
   "source": [
    "def tabulate_trig_functions(start, end, num_points):\n",
    "    step = (end - start) / (num_points - 1)\n",
    "    table = []\n",
    "    for i in range(num_points):\n",
    "        x = start + i * step\n",
    "        sin_x = sine(x)\n",
    "        cos_x = cosine(x)\n",
    "        table.append((x, sin_x, cos_x))\n",
    "    return table"
   ]
  },
  {
   "cell_type": "markdown",
   "id": "a8bb54dd-aaef-4aaa-8728-4b9af1710b0a",
   "metadata": {},
   "source": [
    "The above will create and return a table of values for sine and cosine of x"
   ]
  },
  {
   "cell_type": "code",
   "execution_count": 4,
   "id": "6d106828-2cb2-4e95-ba6c-969a1f815f23",
   "metadata": {},
   "outputs": [],
   "source": [
    "def main():\n",
    "    start = 0.0\n",
    "    end = 2.0\n",
    "    num_points = 1000\n",
    "    trig_table = tabulate_trig_functions(start, end, num_points)\n",
    "\n",
    "    print(f\"{'x':>10} {'sin(x)':>10} {'cos(x)':>10}\")\n",
    "    print(\"-\" * 32)\n",
    "\n",
    "    for i in range(10):\n",
    "        x, sin_x, cos_x = trig_table[i]\n",
    "        print(f\"{x:10.6f} {sin_x:10.6f} {cos_x:10.6f}\")"
   ]
  },
  {
   "cell_type": "markdown",
   "id": "04b3b417-7d50-40cf-be23-b6669fd9f95f",
   "metadata": {},
   "source": [
    "The above defines the main function"
   ]
  },
  {
   "cell_type": "code",
   "execution_count": 5,
   "id": "23cb1ecd-7b3a-4b8d-ac65-f99e4ece39dc",
   "metadata": {},
   "outputs": [
    {
     "name": "stdout",
     "output_type": "stream",
     "text": [
      "         x     sin(x)     cos(x)\n",
      "--------------------------------\n",
      "  0.000000   0.000000   1.000000\n",
      "  0.002002   0.002002   0.999998\n",
      "  0.004004   0.004004   0.999992\n",
      "  0.006006   0.006006   0.999982\n",
      "  0.008008   0.008008   0.999968\n",
      "  0.010010   0.010010   0.999950\n",
      "  0.012012   0.012012   0.999928\n",
      "  0.014014   0.014014   0.999902\n",
      "  0.016016   0.016015   0.999872\n",
      "  0.018018   0.018017   0.999838\n"
     ]
    }
   ],
   "source": [
    "if __name__ == \"__main__\":\n",
    "    main()"
   ]
  }
 ],
 "metadata": {
  "kernelspec": {
   "display_name": "Python 3 (ipykernel)",
   "language": "python",
   "name": "python3"
  },
  "language_info": {
   "codemirror_mode": {
    "name": "ipython",
    "version": 3
   },
   "file_extension": ".py",
   "mimetype": "text/x-python",
   "name": "python",
   "nbconvert_exporter": "python",
   "pygments_lexer": "ipython3",
   "version": "3.13.7"
  }
 },
 "nbformat": 4,
 "nbformat_minor": 5
}
